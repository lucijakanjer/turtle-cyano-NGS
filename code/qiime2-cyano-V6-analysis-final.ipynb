{
 "cells": [
  {
   "cell_type": "markdown",
   "metadata": {},
   "source": [
    "# QIIME2 analysis of 16S V6 sequences of cyanobacterial community on loggerhead sea turtles"
   ]
  },
  {
   "cell_type": "markdown",
   "metadata": {},
   "source": [
    "qiime2-2022.8 version"
   ]
  },
  {
   "cell_type": "markdown",
   "metadata": {},
   "source": [
    "### Importing sequences"
   ]
  },
  {
   "cell_type": "markdown",
   "metadata": {},
   "source": [
    "Trimmed reades genereted by sequencing facility Microsynth can be found in EMBL ENA database under accession number PRJEB68310"
   ]
  },
  {
   "cell_type": "markdown",
   "metadata": {},
   "source": [
    "#### Imported using Casava 1.8 lanelles format\n",
    "https://forum.qiime2.org/t/missing-one-or-more-files-when-importing-pe-demultiplexed-files/20530"
   ]
  },
  {
   "cell_type": "code",
   "execution_count": null,
   "metadata": {},
   "outputs": [],
   "source": [
    "!qiime tools import \\\n",
    "  --type 'SampleData[PairedEndSequencesWithQuality]' \\\n",
    "  --input-path Trimmed_reads \\\n",
    "  --input-format CasavaOneEightLanelessPerSampleDirFmt \\\n",
    "  --output-path demux-V6-trimmed.qza\n",
    "\n",
    "!qiime demux summarize \\\n",
    "  --i-data demux-V6-trimmed.qza \\\n",
    "  --o-visualization demux-V6-trimmed.qzv"
   ]
  },
  {
   "cell_type": "markdown",
   "metadata": {},
   "source": [
    "### DADA2 denoising"
   ]
  },
  {
   "cell_type": "code",
   "execution_count": null,
   "metadata": {},
   "outputs": [],
   "source": [
    "!qiime dada2 denoise-paired \\\n",
    "  --i-demultiplexed-seqs demux-V6-trimmed.qza \\\n",
    "  --p-trunc-len-f 258 \\\n",
    "  --p-trunc-len-r 162 \\\n",
    "  --o-table table.qza \\\n",
    "  --o-representative-sequences rep-seqs-V6.qza \\\n",
    "  --o-denoising-stats denoising-stats-V6.qza\n",
    "\n",
    "!qiime feature-table summarize \\\n",
    "  --i-table table.qza \\\n",
    "  --o-visualization table-V6.qzv \\\n",
    "  --m-sample-metadata-file metadata-V6-v1.tsv\n",
    "  \n",
    "!qiime feature-table tabulate-seqs \\\n",
    "  --i-data rep-seqs-V6.qza \\\n",
    "  --o-visualization rep-seqs-V6.qzv\n",
    "\n",
    "!qiime metadata tabulate \\\n",
    "  --m-input-file denoising-stats-V6.qza \\\n",
    "  --o-visualization denoising-stats-V6.qzv"
   ]
  },
  {
   "cell_type": "markdown",
   "metadata": {},
   "source": [
    "### Training feature classifiers (SILVA) using CyanoSeq taxonomic annotations"
   ]
  },
  {
   "cell_type": "code",
   "execution_count": null,
   "metadata": {},
   "outputs": [],
   "source": [
    "!qiime tools import \\\n",
    "  --type 'FeatureData[Sequence]' \\\n",
    "  --input-path CyanoSeq/CyanoSeq_1.2.1_SILVA138.1_QIIME2.fasta \\\n",
    "  --output-path CyanoSeq_1.2.1_SILVA138.1_QIIME2_seqs.qza\n",
    "\n",
    "!qiime tools import \\\n",
    "  --type 'FeatureData[Taxonomy]' \\\n",
    "  --input-format HeaderlessTSVTaxonomyFormat \\\n",
    "  --input-path CyanoSeq/CyanoSeq_1.2.1_SILVA138.1_QIIME2.tsv \\\n",
    "  --output-path CyanoSeq_1.2.1_SILVA138.1_QIIME2_tax.qza\n",
    "\n",
    "!qiime feature-classifier extract-reads \\\n",
    "  --i-sequences CyanoSeq_1.2.1_SILVA138.1_QIIME2_seqs.qza \\\n",
    "  --p-f-primer GCTAACGCGTTAAGTATCCCGCCTGG \\\n",
    "  --p-r-primer GTCTCTCTAGAGTGCCCAACTTAATG \\\n",
    "  --p-min-length 200 \\\n",
    "  --p-max-length 300 \\\n",
    "  --o-reads ref-seqs-CyanoSeq-V6.qza\n",
    "\n",
    "!qiime feature-classifier fit-classifier-naive-bayes \\\n",
    "  --i-reference-reads ref-seqs-CyanoSeq-V6.qza \\\n",
    "  --i-reference-taxonomy CyanoSeq_1.2.1_SILVA138.1_QIIME2_tax.qza \\\n",
    "  --o-classifier classifier-CyanoSeq-V6.qza\n",
    "\n",
    "!qiime feature-classifier classify-sklearn \\\n",
    "  --i-classifier classifier-CyanoSeq-V6.qza \\\n",
    "  --i-reads rep-seqs-V6.qza \\\n",
    "  --o-classification taxonomy-CyanoSeq-V6.qza\n",
    "\n",
    "!qiime metadata tabulate \\\n",
    "  --m-input-file taxonomy-CyanoSeq-V6.qza \\\n",
    "  --o-visualization taxonomy-CyanoSeq-V6.qzv"
   ]
  },
  {
   "cell_type": "markdown",
   "metadata": {},
   "source": [
    "### Filtering Cyanobacteria"
   ]
  },
  {
   "cell_type": "code",
   "execution_count": null,
   "metadata": {},
   "outputs": [],
   "source": [
    "!qiime taxa filter-table \\\n",
    "  --i-table table.qza \\\n",
    "  --i-taxonomy taxonomy-CyanoSeq-V6.qza \\\n",
    "  --p-include Cyanobacteriota \\\n",
    "  --p-exclude chloroplast \\\n",
    "  --o-filtered-table table-V6-CyanoSeq-cyanobacteria.qza\n",
    "\n",
    "!qiime feature-table summarize \\\n",
    "  --i-table table-V6-CyanoSeq-cyanobacteria.qza \\\n",
    "  --o-visualization table-V6-CyanoSeq-cyanobacteria.qzv \\\n",
    "  --m-sample-metadata-file metadata-V6-v2.tsv\n",
    "\n",
    "!qiime taxa filter-seqs \\\n",
    "  --i-sequences rep-seqs-V6.qza \\\n",
    "  --i-taxonomy taxonomy-CyanoSeq-V6.qza \\\n",
    "  --p-include Cyanobacteriota \\\n",
    "  --p-exclude chloroplast \\\n",
    "  --o-filtered-sequences rep-seqs-V6-CyanoSeq-cyanobacteria.qza"
   ]
  },
  {
   "cell_type": "code",
   "execution_count": 3,
   "metadata": {},
   "outputs": [
    {
     "name": "stdout",
     "output_type": "stream",
     "text": [
      "\u001b[32mSaved Visualization to: table-V6-CyanoSeq-cyanobacteria.qzv\u001b[0m\n",
      "\u001b[0m"
     ]
    }
   ],
   "source": [
    "!qiime feature-table summarize \\\n",
    "--i-table table-V6-CyanoSeq-cyanobacteria.qza \\\n",
    "--m-sample-metadata-file metadata-V6-v4.tsv \\\n",
    "--o-visualization table-V6-CyanoSeq-cyanobacteria.qzv"
   ]
  },
  {
   "cell_type": "markdown",
   "metadata": {},
   "source": [
    "### Taxa bar plots"
   ]
  },
  {
   "cell_type": "code",
   "execution_count": 5,
   "metadata": {},
   "outputs": [
    {
     "name": "stdout",
     "output_type": "stream",
     "text": [
      "\u001b[32mSaved Visualization to: taxa-barplots-V6-cyanovacteria-CyanoSeq.qzv\u001b[0m\n",
      "\u001b[0m"
     ]
    }
   ],
   "source": [
    "!qiime taxa barplot \\\n",
    " --i-table table-V6-CyanoSeq-cyanobacteria.qza \\\n",
    " --i-taxonomy taxonomy-CyanoSeq-V6.qza \\\n",
    " --m-metadata-file metadata-V6-v2.tsv \\\n",
    " --o-visualization taxa-barplots-V6-cyanovacteria-CyanoSeq.qzv"
   ]
  },
  {
   "cell_type": "markdown",
   "metadata": {},
   "source": [
    "### Phylogenetic tree construction"
   ]
  },
  {
   "cell_type": "code",
   "execution_count": null,
   "metadata": {},
   "outputs": [],
   "source": [
    "!qiime phylogeny align-to-tree-mafft-fasttree \\\n",
    "  --i-sequences rep-seqs-V6-CyanoSeq-cyanobacteria.qza \\\n",
    "  --o-alignment aligned-rep-seqs-V6-CyanoSeq-cyanobacteria.qza \\\n",
    "  --o-masked-alignment masked-aligned-rep-seqs-V6-CyanoSeq-cyanobacteria.qza \\\n",
    "  --o-tree unrooted-tree-V6-CyanoSeq-cyanobacteria.qza \\\n",
    "  --o-rooted-tree rooted-tree-V6-CyanoSeq-cyanobacteria.qza"
   ]
  },
  {
   "cell_type": "markdown",
   "metadata": {},
   "source": [
    "### Alpha and beta core metrics"
   ]
  },
  {
   "cell_type": "code",
   "execution_count": 2,
   "metadata": {},
   "outputs": [
    {
     "name": "stdout",
     "output_type": "stream",
     "text": [
      "\u001b[32mSaved FeatureTable[Frequency] to: core-metrics-results-10098/rarefied_table.qza\u001b[0m\n",
      "\u001b[32mSaved SampleData[AlphaDiversity] to: core-metrics-results-10098/faith_pd_vector.qza\u001b[0m\n",
      "\u001b[32mSaved SampleData[AlphaDiversity] to: core-metrics-results-10098/observed_features_vector.qza\u001b[0m\n",
      "\u001b[32mSaved SampleData[AlphaDiversity] to: core-metrics-results-10098/shannon_vector.qza\u001b[0m\n",
      "\u001b[32mSaved SampleData[AlphaDiversity] to: core-metrics-results-10098/evenness_vector.qza\u001b[0m\n",
      "\u001b[32mSaved DistanceMatrix to: core-metrics-results-10098/unweighted_unifrac_distance_matrix.qza\u001b[0m\n",
      "\u001b[32mSaved DistanceMatrix to: core-metrics-results-10098/weighted_unifrac_distance_matrix.qza\u001b[0m\n",
      "\u001b[32mSaved DistanceMatrix to: core-metrics-results-10098/jaccard_distance_matrix.qza\u001b[0m\n",
      "\u001b[32mSaved DistanceMatrix to: core-metrics-results-10098/bray_curtis_distance_matrix.qza\u001b[0m\n",
      "\u001b[32mSaved PCoAResults to: core-metrics-results-10098/unweighted_unifrac_pcoa_results.qza\u001b[0m\n",
      "\u001b[32mSaved PCoAResults to: core-metrics-results-10098/weighted_unifrac_pcoa_results.qza\u001b[0m\n",
      "\u001b[32mSaved PCoAResults to: core-metrics-results-10098/jaccard_pcoa_results.qza\u001b[0m\n",
      "\u001b[32mSaved PCoAResults to: core-metrics-results-10098/bray_curtis_pcoa_results.qza\u001b[0m\n",
      "\u001b[32mSaved Visualization to: core-metrics-results-10098/unweighted_unifrac_emperor.qzv\u001b[0m\n",
      "\u001b[32mSaved Visualization to: core-metrics-results-10098/weighted_unifrac_emperor.qzv\u001b[0m\n",
      "\u001b[32mSaved Visualization to: core-metrics-results-10098/jaccard_emperor.qzv\u001b[0m\n",
      "\u001b[32mSaved Visualization to: core-metrics-results-10098/bray_curtis_emperor.qzv\u001b[0m\n",
      "\u001b[0m"
     ]
    }
   ],
   "source": [
    "!qiime diversity core-metrics-phylogenetic \\\n",
    "  --i-phylogeny rooted-tree-V6-CyanoSeq-cyanobacteria.qza \\\n",
    "  --i-table table-V6-CyanoSeq-cyanobacteria.qza \\\n",
    "  --p-sampling-depth 10098 \\\n",
    "  --m-metadata-file metadata-V6-v2.tsv \\\n",
    "  --output-dir core-metrics-results-10098"
   ]
  },
  {
   "cell_type": "markdown",
   "metadata": {},
   "source": [
    "Permanova with Bray-Curtis distance"
   ]
  },
  {
   "cell_type": "code",
   "execution_count": 3,
   "metadata": {},
   "outputs": [
    {
     "name": "stdout",
     "output_type": "stream",
     "text": [
      "\u001b[32mSaved Visualization to: core-metrics-results-10098/permanova_bc_Age.qzv\u001b[0m\n",
      "\u001b[0m"
     ]
    }
   ],
   "source": [
    "!qiime diversity beta-group-significance \\\n",
    "  --i-distance-matrix core-metrics-results-10098/bray_curtis_distance_matrix.qza \\\n",
    "  --m-metadata-file metadata-V6-v2.tsv \\\n",
    "  --m-metadata-column Age \\\n",
    "  --o-visualization core-metrics-results-10098/permanova_bc_Age.qzv \\\n",
    "  --p-pairwise"
   ]
  },
  {
   "cell_type": "markdown",
   "metadata": {},
   "source": [
    "Permanova with Jaccard distance"
   ]
  },
  {
   "cell_type": "code",
   "execution_count": 1,
   "metadata": {},
   "outputs": [
    {
     "name": "stdout",
     "output_type": "stream",
     "text": [
      "\u001b[32mSaved Visualization to: permanova_jaccard_Age.qzv\u001b[0m\n",
      "\u001b[0m"
     ]
    }
   ],
   "source": [
    "!qiime diversity beta-group-significance \\\n",
    "  --i-distance-matrix jaccard_distance_matrix.qza \\\n",
    "  --m-metadata-file metadata-V6-v2.tsv \\\n",
    "  --m-metadata-column Age \\\n",
    "  --o-visualization permanova_jaccard_Age.qzv \\\n",
    "  --p-pairwise"
   ]
  },
  {
   "cell_type": "markdown",
   "metadata": {},
   "source": [
    "Permanova with unweighted UniFrac"
   ]
  },
  {
   "cell_type": "code",
   "execution_count": 3,
   "metadata": {},
   "outputs": [
    {
     "name": "stdout",
     "output_type": "stream",
     "text": [
      "\u001b[32mSaved Visualization to: permanova_uw_unifrac_Age.qzv\u001b[0m\n",
      "\u001b[0m"
     ]
    }
   ],
   "source": [
    "!qiime diversity beta-group-significance \\\n",
    "  --i-distance-matrix unweighted_unifrac_distance_matrix.qza \\\n",
    "  --m-metadata-file metadata-V6-v2.tsv \\\n",
    "  --m-metadata-column Age \\\n",
    "  --o-visualization permanova_uw_unifrac_Age.qzv \\\n",
    "  --p-pairwise"
   ]
  },
  {
   "cell_type": "markdown",
   "metadata": {},
   "source": [
    "Permanova with weighted UniFrac"
   ]
  },
  {
   "cell_type": "code",
   "execution_count": 2,
   "metadata": {},
   "outputs": [
    {
     "name": "stdout",
     "output_type": "stream",
     "text": [
      "\u001b[32mSaved Visualization to: permanova_w_unifrac_Age.qzv\u001b[0m\n",
      "\u001b[0m"
     ]
    }
   ],
   "source": [
    "!qiime diversity beta-group-significance \\\n",
    "  --i-distance-matrix weighted_unifrac_distance_matrix.qza \\\n",
    "  --m-metadata-file metadata-V6-v2.tsv \\\n",
    "  --m-metadata-column Age \\\n",
    "  --o-visualization permanova_w_unifrac_Age.qzv \\\n",
    "  --p-pairwise"
   ]
  },
  {
   "cell_type": "markdown",
   "metadata": {},
   "source": [
    "Aitchinson distance"
   ]
  },
  {
   "cell_type": "code",
   "execution_count": 4,
   "metadata": {},
   "outputs": [
    {
     "name": "stdout",
     "output_type": "stream",
     "text": [
      "\u001b[33mQIIME is caching your current deployment for improved performance. This may take a few moments and should only happen once per deployment.\u001b[0m\n",
      "\u001b[0m\u001b[32mSaved PCoAResults % Properties('biplot') to: rPCA-ordination.qza\u001b[0m\n",
      "\u001b[32mSaved DistanceMatrix to: aitchison-distance.qza\u001b[0m\n",
      "\u001b[0m\u001b[32mSaved Visualization to: rPCA-biplot.qzv\u001b[0m\n",
      "\u001b[0m"
     ]
    }
   ],
   "source": [
    "!qiime dev refresh-cache\n",
    "\n",
    "!qiime deicode rpca \\\n",
    "    --i-table table-V6-CyanoSeq-cyanobacteria.qza \\\n",
    "    --p-min-feature-count 10 \\\n",
    "    --p-min-sample-count 500 \\\n",
    "    --o-biplot rPCA-ordination.qza \\\n",
    "    --o-distance-matrix aitchison-distance.qza\n",
    "\n",
    "!qiime emperor biplot \\\n",
    "    --i-biplot rPCA-ordination.qza \\\n",
    "    --m-sample-metadata-file metadata-V6-v2.tsv \\\n",
    "    --m-feature-metadata-file taxonomy-CyanoSeq-V6.qza \\\n",
    "    --o-visualization rPCA-biplot.qzv \\\n",
    "    --p-number-of-features 5"
   ]
  },
  {
   "cell_type": "markdown",
   "metadata": {},
   "source": [
    "Permanova with Aitchinson distance"
   ]
  },
  {
   "cell_type": "code",
   "execution_count": 5,
   "metadata": {},
   "outputs": [
    {
     "name": "stdout",
     "output_type": "stream",
     "text": [
      "\u001b[32mSaved Visualization to: permanova_aitchison_Age.qzv\u001b[0m\n",
      "\u001b[0m"
     ]
    }
   ],
   "source": [
    "!qiime diversity beta-group-significance \\\n",
    "  --i-distance-matrix aitchison-distance.qza \\\n",
    "  --m-metadata-file metadata-V6-v2.tsv \\\n",
    "  --m-metadata-column Age \\\n",
    "  --o-visualization permanova_aitchison_Age.qzv \\\n",
    "  --p-pairwise"
   ]
  },
  {
   "cell_type": "markdown",
   "metadata": {},
   "source": [
    "### PERMANOVA - coast comparisson"
   ]
  },
  {
   "cell_type": "code",
   "execution_count": 1,
   "metadata": {},
   "outputs": [
    {
     "name": "stdout",
     "output_type": "stream",
     "text": [
      "\u001b[32mSaved Visualization to: permanova_bc_coast.qzv\u001b[0m\n",
      "\u001b[0m\u001b[32mSaved Visualization to: permanova_jaccard_coast.qzv\u001b[0m\n",
      "\u001b[0m\u001b[32mSaved Visualization to: permanova_uw_unifrac_coast.qzv\u001b[0m\n",
      "\u001b[0m\u001b[32mSaved Visualization to: permanova_w_unifrac_coast.qzv\u001b[0m\n",
      "\u001b[0m\u001b[32mSaved Visualization to: permanova_aitchison_coast.qzv\u001b[0m\n",
      "\u001b[0m"
     ]
    }
   ],
   "source": [
    "!qiime diversity beta-group-significance \\\n",
    "  --i-distance-matrix bray_curtis_distance_matrix.qza \\\n",
    "  --m-metadata-file metadata-V6-v4.tsv \\\n",
    "  --m-metadata-column coast \\\n",
    "  --o-visualization permanova_bc_coast.qzv \\\n",
    "  --p-pairwise\n",
    "\n",
    "!qiime diversity beta-group-significance \\\n",
    "  --i-distance-matrix jaccard_distance_matrix.qza \\\n",
    "  --m-metadata-file metadata-V6-v4.tsv \\\n",
    "  --m-metadata-column coast \\\n",
    "  --o-visualization permanova_jaccard_coast.qzv \\\n",
    "  --p-pairwise\n",
    "\n",
    "!qiime diversity beta-group-significance \\\n",
    "  --i-distance-matrix unweighted_unifrac_distance_matrix.qza \\\n",
    "  --m-metadata-file metadata-V6-v4.tsv \\\n",
    "  --m-metadata-column coast \\\n",
    "  --o-visualization permanova_uw_unifrac_coast.qzv \\\n",
    "  --p-pairwise\n",
    "\n",
    "!qiime diversity beta-group-significance \\\n",
    "  --i-distance-matrix weighted_unifrac_distance_matrix.qza \\\n",
    "  --m-metadata-file metadata-V6-v4.tsv \\\n",
    "  --m-metadata-column coast \\\n",
    "  --o-visualization permanova_w_unifrac_coast.qzv \\\n",
    "  --p-pairwise\n",
    "\n",
    "!qiime diversity beta-group-significance \\\n",
    "  --i-distance-matrix aitchison-distance.qza \\\n",
    "  --m-metadata-file metadata-V6-v4.tsv \\\n",
    "  --m-metadata-column coast \\\n",
    "  --o-visualization permanova_aitchison_coast.qzv \\\n",
    "  --p-pairwise"
   ]
  },
  {
   "cell_type": "markdown",
   "metadata": {},
   "source": [
    "### Core features"
   ]
  },
  {
   "cell_type": "code",
   "execution_count": 6,
   "metadata": {},
   "outputs": [
    {
     "name": "stdout",
     "output_type": "stream",
     "text": [
      "\u001b[32mSaved Visualization to: core-features.qzv\u001b[0m\n",
      "\u001b[0m"
     ]
    }
   ],
   "source": [
    "!qiime feature-table core-features \\\n",
    "    --i-table table-V6-CyanoSeq-cyanobacteria.qza \\\n",
    "    --o-visualization core-features.qzv"
   ]
  },
  {
   "cell_type": "markdown",
   "metadata": {},
   "source": [
    "Juveniles"
   ]
  },
  {
   "cell_type": "code",
   "execution_count": 7,
   "metadata": {},
   "outputs": [
    {
     "name": "stdout",
     "output_type": "stream",
     "text": [
      "\u001b[32mSaved FeatureTable[Frequency] to: table-juvenile.qza\u001b[0m\n",
      "\u001b[0m\u001b[32mSaved Visualization to: core-features-juvenile.qzv\u001b[0m\n",
      "\u001b[0m"
     ]
    }
   ],
   "source": [
    "!qiime feature-table filter-samples \\\n",
    "  --i-table table-V6-CyanoSeq-cyanobacteria.qza \\\n",
    "  --m-metadata-file metadata-V6-v2.tsv \\\n",
    "  --p-where \"[Age]='juvenile'\" \\\n",
    "  --o-filtered-table table-juvenile.qza\n",
    "\n",
    "!qiime feature-table core-features \\\n",
    "    --i-table table-juvenile.qza \\\n",
    "    --o-visualization core-features-juvenile.qzv"
   ]
  },
  {
   "cell_type": "markdown",
   "metadata": {},
   "source": [
    "Subadults"
   ]
  },
  {
   "cell_type": "code",
   "execution_count": 8,
   "metadata": {},
   "outputs": [
    {
     "name": "stdout",
     "output_type": "stream",
     "text": [
      "\u001b[32mSaved FeatureTable[Frequency] to: table-sub-adult.qza\u001b[0m\n",
      "\u001b[0m\u001b[32mSaved Visualization to: core-features-sub-adult.qzv\u001b[0m\n",
      "\u001b[0m"
     ]
    }
   ],
   "source": [
    "!qiime feature-table filter-samples \\\n",
    "  --i-table table-V6-CyanoSeq-cyanobacteria.qza \\\n",
    "  --m-metadata-file metadata-V6-v2.tsv \\\n",
    "  --p-where \"[Age]='sub-adult'\" \\\n",
    "  --o-filtered-table table-sub-adult.qza\n",
    "\n",
    "!qiime feature-table core-features \\\n",
    "    --i-table table-sub-adult.qza \\\n",
    "    --o-visualization core-features-sub-adult.qzv"
   ]
  },
  {
   "cell_type": "markdown",
   "metadata": {},
   "source": [
    "Adult"
   ]
  },
  {
   "cell_type": "code",
   "execution_count": 9,
   "metadata": {},
   "outputs": [
    {
     "name": "stdout",
     "output_type": "stream",
     "text": [
      "\u001b[32mSaved FeatureTable[Frequency] to: table-adult.qza\u001b[0m\n",
      "\u001b[0m\u001b[32mSaved Visualization to: core-features-adult.qzv\u001b[0m\n",
      "\u001b[0m"
     ]
    }
   ],
   "source": [
    "!qiime feature-table filter-samples \\\n",
    "  --i-table table-V6-CyanoSeq-cyanobacteria.qza \\\n",
    "  --m-metadata-file metadata-V6-v2.tsv \\\n",
    "  --p-where \"[Age]='adult'\" \\\n",
    "  --o-filtered-table table-adult.qza\n",
    "\n",
    "!qiime feature-table core-features \\\n",
    "    --i-table table-adult.qza \\\n",
    "    --o-visualization core-features-adult.qzv"
   ]
  }
 ],
 "metadata": {
  "kernelspec": {
   "display_name": "Python 3 (ipykernel)",
   "language": "python",
   "name": "python3"
  },
  "language_info": {
   "codemirror_mode": {
    "name": "ipython",
    "version": 3
   },
   "file_extension": ".py",
   "mimetype": "text/x-python",
   "name": "python",
   "nbconvert_exporter": "python",
   "pygments_lexer": "ipython3",
   "version": "3.8.13"
  }
 },
 "nbformat": 4,
 "nbformat_minor": 4
}
